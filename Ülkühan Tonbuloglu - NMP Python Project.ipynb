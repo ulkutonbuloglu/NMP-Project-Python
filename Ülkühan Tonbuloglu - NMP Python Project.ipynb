{
 "cells": [
  {
   "cell_type": "markdown",
   "metadata": {
    "dc": {
     "key": "4"
    },
    "deletable": false,
    "editable": false,
    "run_control": {
     "frozen": true
    },
    "tags": [
     "context"
    ]
   },
   "source": [
    "## 1. Welcome!\n",
    "<p><img src=\"https://assets.datacamp.com/production/project_1170/img/office_cast.jpeg\" alt=\"Markdown\">.</p>\n",
    "<p><strong>The Office!</strong> What started as a British mockumentary series about office culture in 2001 has since spawned ten other variants across the world, including an Israeli version (2010-13), a Hindi version (2019-), and even a French Canadian variant (2006-2007). Of all these iterations (including the original), the American series has been the longest-running, spanning 201 episodes over nine seasons.</p>\n",
    "<p>In this notebook, we will take a look at a dataset of The Office episodes, and try to understand how the popularity and quality of the series varied over time. To do so, we will use the following dataset: <code>datasets/office_episodes.csv</code>, which was downloaded from Kaggle <a href=\"https://www.kaggle.com/nehaprabhavalkar/the-office-dataset\">here</a>.</p>\n",
    "<p>This dataset contains information on a variety of characteristics of each episode. In detail, these are:\n",
    "<br></p>\n",
    "<div style=\"background-color: #efebe4; color: #05192d; text-align:left; vertical-align: middle; padding: 15px 25px 15px 25px; line-height: 1.6;\">\n",
    "    <div style=\"font-size:20px\"><b>datasets/office_episodes.csv</b></div>\n",
    "<ul>\n",
    "    <li><b>episode_number:</b> Canonical episode number.</li>\n",
    "    <li><b>season:</b> Season in which the episode appeared.</li>\n",
    "    <li><b>episode_title:</b> Title of the episode.</li>\n",
    "    <li><b>description:</b> Description of the episode.</li>\n",
    "    <li><b>ratings:</b> Average IMDB rating.</li>\n",
    "    <li><b>votes:</b> Number of votes.</li>\n",
    "    <li><b>viewership_mil:</b> Number of US viewers in millions.</li>\n",
    "    <li><b>duration:</b> Duration in number of minutes.</li>\n",
    "    <li><b>release_date:</b> Airdate.</li>\n",
    "    <li><b>guest_stars:</b> Guest stars in the episode (if any).</li>\n",
    "    <li><b>director:</b> Director of the episode.</li>\n",
    "    <li><b>writers:</b> Writers of the episode.</li>\n",
    "    <li><b>has_guests:</b> True/False column for whether the episode contained guest stars.</li>\n",
    "    <li><b>scaled_ratings:</b> The ratings scaled from 0 (worst-reviewed) to 1 (best-reviewed).</li>\n",
    "</ul>\n",
    "    </div>"
   ]
  },
  {
   "cell_type": "code",
   "execution_count": 29,
   "metadata": {
    "dc": {
     "key": "4"
    },
    "tags": [
     "sample_code"
    ]
   },
   "outputs": [
    {
     "name": "stdout",
     "output_type": "stream",
     "text": [
      "<class 'pandas.core.frame.DataFrame'>\n",
      "RangeIndex: 188 entries, 0 to 187\n",
      "Data columns (total 14 columns):\n",
      " #   Column          Non-Null Count  Dtype         \n",
      "---  ------          --------------  -----         \n",
      " 0   episode_number  188 non-null    int64         \n",
      " 1   season          188 non-null    int64         \n",
      " 2   episode_title   188 non-null    object        \n",
      " 3   description     188 non-null    object        \n",
      " 4   ratings         188 non-null    float64       \n",
      " 5   votes           188 non-null    int64         \n",
      " 6   viewership_mil  188 non-null    float64       \n",
      " 7   duration        188 non-null    int64         \n",
      " 8   release_date    188 non-null    datetime64[ns]\n",
      " 9   guest_stars     29 non-null     object        \n",
      " 10  director        188 non-null    object        \n",
      " 11  writers         188 non-null    object        \n",
      " 12  has_guests      188 non-null    bool          \n",
      " 13  scaled_ratings  188 non-null    float64       \n",
      "dtypes: bool(1), datetime64[ns](1), float64(3), int64(4), object(5)\n",
      "memory usage: 19.4+ KB\n"
     ]
    }
   ],
   "source": [
    "#relative packages\n",
    "import pandas as pd\n",
    "import matplotlib.pyplot as plt\n",
    "import numpy as np\n",
    "\n",
    "#to make the figures look larger\n",
    "plt.rcParams['figure.figsize'] = [11, 7]\n",
    "\n",
    "office_pd = pd.read_csv('datasets/office_episodes.csv', parse_dates=['release_date']) #update it from object to date\n",
    "office_pd.head() #to see if imported correctly\n",
    "office_pd.info()\n"
   ]
  },
  {
   "cell_type": "markdown",
   "metadata": {},
   "source": [
    "# Descriptive Statistics"
   ]
  },
  {
   "cell_type": "code",
   "execution_count": 30,
   "metadata": {},
   "outputs": [
    {
     "name": "stdout",
     "output_type": "stream",
     "text": [
      "The mean duration of the episodes is 27.0531914893617 minutes.\n"
     ]
    }
   ],
   "source": [
    "average_duration= np.mean(office_pd['duration'])\n",
    "print('The mean duration of the episodes is', average_duration, 'minutes.')"
   ]
  },
  {
   "cell_type": "code",
   "execution_count": 31,
   "metadata": {},
   "outputs": [
    {
     "name": "stdout",
     "output_type": "stream",
     "text": [
      "In average, The Office has 7.246329787234051 million views per episode.\n"
     ]
    }
   ],
   "source": [
    "average_viewership= np.mean(office_pd['viewership_mil'])\n",
    "print('In average, The Office has', average_viewership, 'million views per episode.')"
   ]
  },
  {
   "cell_type": "code",
   "execution_count": 32,
   "metadata": {},
   "outputs": [
    {
     "name": "stdout",
     "output_type": "stream",
     "text": [
      "[('Paul Feig', 15), ('Randall Einhorn', 15), ('Ken Kwapis', 13)]\n"
     ]
    }
   ],
   "source": [
    "from collections import Counter\n",
    "  \n",
    "director_names=office_pd['director']\n",
    "  \n",
    "Counter = Counter(director_names)\n",
    "  \n",
    "# most_common() produces k frequently encountered\n",
    "most_occur = Counter.most_common(3)\n",
    "   \n",
    "print(most_occur)"
   ]
  },
  {
   "cell_type": "markdown",
   "metadata": {},
   "source": [
    "**This gives us top 3 directors who directed the most episodes of the show.** "
   ]
  },
  {
   "cell_type": "code",
   "execution_count": 33,
   "metadata": {},
   "outputs": [
    {
     "name": "stdout",
     "output_type": "stream",
     "text": [
      "[('Paul Feig', 15), ('Randall Einhorn', 15), ('Ken Kwapis', 13)]\n"
     ]
    }
   ],
   "source": [
    "from collections import Counter\n",
    "  \n",
    "writer_names=office_pd['writers']\n",
    "  \n",
    "Counter = Counter(writer_names)\n",
    "  \n",
    "most_frequent = Counter.most_common(3)\n",
    "   \n",
    "print(most_occur)"
   ]
  },
  {
   "cell_type": "markdown",
   "metadata": {},
   "source": [
    "**This gives us top 3 writers who directed the most episodes of the show.**"
   ]
  },
  {
   "cell_type": "code",
   "execution_count": 34,
   "metadata": {},
   "outputs": [
    {
     "data": {
      "text/plain": [
       "(184    3.25\n",
       " Name: viewership_mil, dtype: float64,\n",
       " 184    Paper Airplane\n",
       " Name: episode_title, dtype: object,\n",
       " 184    9\n",
       " Name: season, dtype: int64)"
      ]
     },
     "execution_count": 34,
     "metadata": {},
     "output_type": "execute_result"
    }
   ],
   "source": [
    "least_watched = office_pd[office_pd['viewership_mil'] == office_pd['viewership_mil'].min()]\n",
    "least_watched['viewership_mil'],least_watched['episode_title'],least_watched['season']"
   ]
  },
  {
   "cell_type": "markdown",
   "metadata": {},
   "source": [
    "**The least watched episode of the show is called \"Paper Airplane\" and it's 184th episode of the show. Additionally, we now know that it has 3.25 million viewership.**"
   ]
  },
  {
   "cell_type": "code",
   "execution_count": 35,
   "metadata": {},
   "outputs": [
    {
     "data": {
      "text/plain": [
       "(77    22.91\n",
       " Name: viewership_mil, dtype: float64,\n",
       " 77    Stress Relief\n",
       " Name: episode_title, dtype: object,\n",
       " 77    5\n",
       " Name: season, dtype: int64)"
      ]
     },
     "execution_count": 35,
     "metadata": {},
     "output_type": "execute_result"
    }
   ],
   "source": [
    "most_watched = office_pd[office_pd['viewership_mil'] == office_pd['viewership_mil'].max()]\n",
    "most_watched['viewership_mil'],most_watched['episode_title'],most_watched['season']"
   ]
  },
  {
   "cell_type": "markdown",
   "metadata": {},
   "source": [
    "**I did the same for the most watched episode. The most watched episode of the show is titled as \"Stress Relief\" and it's 77th episode of the show. It has 22.91 million views.**"
   ]
  },
  {
   "cell_type": "code",
   "execution_count": 36,
   "metadata": {
    "dc": {
     "key": "4"
    },
    "scrolled": true
   },
   "outputs": [
    {
     "data": {
      "text/plain": [
       "77    Cloris Leachman, Jack Black, Jessica Alba\n",
       "Name: guest_stars, dtype: object"
      ]
     },
     "execution_count": 36,
     "metadata": {},
     "output_type": "execute_result"
    }
   ],
   "source": [
    "office_pd[office_pd['viewership_mil'] == office_pd['viewership_mil'].max()]['guest_stars']"
   ]
  },
  {
   "cell_type": "markdown",
   "metadata": {},
   "source": [
    "**Among the guest stars, I wanted to know whether there is a guest star on the most watched episode and if there is, who is he/she. This shows there are three guest stars on the most watched episode of The Office.**"
   ]
  },
  {
   "cell_type": "code",
   "execution_count": 37,
   "metadata": {
    "dc": {
     "key": "4"
    }
   },
   "outputs": [
    {
     "name": "stdout",
     "output_type": "stream",
     "text": [
      "stat=0.042, p=0.566\n",
      "These two samples are independent.\n"
     ]
    }
   ],
   "source": [
    "ratings_higher= office_pd['scaled_ratings'] > 0.5\n",
    "\n",
    "#the Pearson's Correlation test\n",
    "from scipy.stats import pearsonr\n",
    "stat, p = pearsonr(office_pd['has_guests'] == True, ratings_higher == True)\n",
    "print('stat=%.3f, p=%.3f' % (stat, p))\n",
    "if p < 0.05:\n",
    "\tprint('There is a dependency between the samples.')\n",
    "else:\n",
    "\tprint('These two samples are independent.')"
   ]
  },
  {
   "cell_type": "markdown",
   "metadata": {},
   "source": [
    "**Above, I'd like to know whether there is a correlation between having guest stars on the episodes and having higher ratings. It looks like there is no statistically significant correlation.**"
   ]
  },
  {
   "cell_type": "markdown",
   "metadata": {},
   "source": [
    "# Plot Customization"
   ]
  },
  {
   "cell_type": "code",
   "execution_count": 38,
   "metadata": {
    "dc": {
     "key": "4"
    }
   },
   "outputs": [],
   "source": [
    "colors = []\n",
    "\n",
    "for ind, row in office_pd.iterrows():\n",
    "    if row['scaled_ratings'] < 0.25:\n",
    "        colors.append('red')\n",
    "    elif row['scaled_ratings'] < 0.50:\n",
    "        colors.append('orange')\n",
    "    elif row['scaled_ratings'] < 0.75:\n",
    "        colors.append('lightgreen')\n",
    "    else:\n",
    "        colors.append('darkgreen')"
   ]
  },
  {
   "cell_type": "markdown",
   "metadata": {},
   "source": [
    "**Above, I wanted to show scaled ratings in different colors to make it more readable.**"
   ]
  },
  {
   "cell_type": "code",
   "execution_count": 39,
   "metadata": {
    "dc": {
     "key": "4"
    }
   },
   "outputs": [],
   "source": [
    "sizing = []\n",
    "\n",
    "for ind, row in office_pd.iterrows():\n",
    "    if row['has_guests'] == False:\n",
    "        sizing.append(25)\n",
    "    else:\n",
    "        sizing.append(250)"
   ]
  },
  {
   "cell_type": "markdown",
   "metadata": {},
   "source": [
    "**If there are no guest stars, the size of the plot will be 25, if there's, it will be 250.**"
   ]
  },
  {
   "cell_type": "code",
   "execution_count": 40,
   "metadata": {
    "dc": {
     "key": "4"
    }
   },
   "outputs": [
    {
     "name": "stdout",
     "output_type": "stream",
     "text": [
      "<class 'pandas.core.frame.DataFrame'>\n",
      "RangeIndex: 188 entries, 0 to 187\n",
      "Data columns (total 16 columns):\n",
      " #   Column          Non-Null Count  Dtype         \n",
      "---  ------          --------------  -----         \n",
      " 0   episode_number  188 non-null    int64         \n",
      " 1   season          188 non-null    int64         \n",
      " 2   episode_title   188 non-null    object        \n",
      " 3   description     188 non-null    object        \n",
      " 4   ratings         188 non-null    float64       \n",
      " 5   votes           188 non-null    int64         \n",
      " 6   viewership_mil  188 non-null    float64       \n",
      " 7   duration        188 non-null    int64         \n",
      " 8   release_date    188 non-null    datetime64[ns]\n",
      " 9   guest_stars     29 non-null     object        \n",
      " 10  director        188 non-null    object        \n",
      " 11  writers         188 non-null    object        \n",
      " 12  has_guests      188 non-null    bool          \n",
      " 13  scaled_ratings  188 non-null    float64       \n",
      " 14  colors          188 non-null    object        \n",
      " 15  sizes           188 non-null    int64         \n",
      "dtypes: bool(1), datetime64[ns](1), float64(3), int64(5), object(6)\n",
      "memory usage: 22.3+ KB\n"
     ]
    }
   ],
   "source": [
    "#Adding columns into the dataset.\n",
    "office_pd['colors'] = colors\n",
    "office_pd['sizes'] = sizing\n",
    "office_pd.info()"
   ]
  },
  {
   "cell_type": "code",
   "execution_count": 41,
   "metadata": {
    "dc": {
     "key": "4"
    }
   },
   "outputs": [],
   "source": [
    "#to visualize the episodes with guests and without guests.\n",
    "non_guest = office_pd[office_pd['has_guests'] == False]\n",
    "guest = office_pd[office_pd['has_guests'] == True]"
   ]
  },
  {
   "cell_type": "code",
   "execution_count": 42,
   "metadata": {},
   "outputs": [
    {
     "data": {
      "text/plain": [
       "8                                           Nancy Carell\n",
       "9                                              Amy Adams\n",
       "12                                           Tim Meadows\n",
       "14                                             Ken Jeong\n",
       "16                                            Rob Riggle\n",
       "21                                         Conan O'Brien\n",
       "53                                          Kevin McHale\n",
       "66                                  Wendi McLendon-Covey\n",
       "77             Cloris Leachman, Jack Black, Jessica Alba\n",
       "82                                            Idris Elba\n",
       "108                                        Mellisa Rauch\n",
       "117                                          Evan Peters\n",
       "130    Will Arnett,  Ray Romano, Jim Carrey, Ricky Ge...\n",
       "185                                   Michael Imperioli \n",
       "187    Joan Cusack, Ed Begley Jr, Rachel Harris, Nanc...\n",
       "Name: guest_stars, dtype: object"
      ]
     },
     "execution_count": 42,
     "metadata": {},
     "output_type": "execute_result"
    }
   ],
   "source": [
    "guest[guest['scaled_ratings']>0.5]['guest_stars'] "
   ]
  },
  {
   "cell_type": "markdown",
   "metadata": {},
   "source": [
    "**These are the guest stars that appeared on the episodes where the ratings were above 0.5\n",
    "In the plot, it corresponds to light green and dark green.**"
   ]
  },
  {
   "cell_type": "markdown",
   "metadata": {},
   "source": [
    "# The Plot"
   ]
  },
  {
   "cell_type": "code",
   "execution_count": 43,
   "metadata": {
    "dc": {
     "key": "4"
    }
   },
   "outputs": [
    {
     "data": {
      "image/png": "[encoded data removed]",
      "text/plain": [
       "<Figure size 792x504 with 1 Axes>"
      ]
     },
     "metadata": {
      "needs_background": "light"
     },
     "output_type": "display_data"
    }
   ],
   "source": [
    "fig = plt.figure() #this line is given in the instructions. \n",
    "plt.style.use('fivethirtyeight')\n",
    "\n",
    "plt.scatter(x=non_guest['episode_number'], \n",
    "            y=non_guest['viewership_mil'],\n",
    "            c=non_guest['colors'], \n",
    "            s=non_guest['sizes']\n",
    "           )\n",
    "\n",
    "plt.scatter(x=guest['episode_number'],  \n",
    "            y=guest['viewership_mil'],\n",
    "            c=guest['colors'], \n",
    "            s=guest['sizes'],\n",
    "            marker='*'\n",
    "           )\n",
    "plt.title(\"Popularity, Quality, and Guest Appearances on the Office\")\n",
    "plt.xlabel(\"Episode Number\")\n",
    "plt.ylabel(\"Viewership (Millions)\")\n",
    "plt.show()"
   ]
  },
  {
   "cell_type": "markdown",
   "metadata": {},
   "source": [
    "**In this graph, we can clearly see that there's serious decline in popularity of the show around 140th episode. Additionally, ratings got worse during this falling period which we can tell from the color of the dots being more orangey towards the end. Lastly one can immediately notice that there is strong outliner for the most watched episode. It's watched around double the size of mean viewership throughout the show.**"
   ]
  },
  {
   "cell_type": "markdown",
   "metadata": {},
   "source": [
    "## Thank you for this class. If something is not correct, please let me know.\n",
    "### Best regards\n",
    "### Ülkü"
   ]
  }
 ],
 "metadata": {
  "kernelspec": {
   "display_name": "Python 3",
   "language": "python",
   "name": "python3"
  },
  "language_info": {
   "codemirror_mode": {
    "name": "ipython",
    "version": 3
   },
   "file_extension": ".py",
   "mimetype": "text/x-python",
   "name": "python",
   "nbconvert_exporter": "python",
   "pygments_lexer": "ipython3",
   "version": "3.7.6"
  }
 },
 "nbformat": 4,
 "nbformat_minor": 2
}
